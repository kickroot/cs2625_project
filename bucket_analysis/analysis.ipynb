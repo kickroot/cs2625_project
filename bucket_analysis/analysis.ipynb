{
 "cells": [
  {
   "cell_type": "code",
   "execution_count": 3,
   "metadata": {},
   "outputs": [
    {
     "name": "stdout",
     "output_type": "stream",
     "text": [
      "3.12.3 (main, Sep 11 2024, 14:17:37) [GCC 13.2.0]\n"
     ]
    }
   ],
   "source": [
    "import sys\n",
    "print(sys.version)"
   ]
  },
  {
   "cell_type": "code",
   "execution_count": 18,
   "metadata": {},
   "outputs": [],
   "source": [
    "#\n",
    "# Load and extract the 327k bucket names downloaded from Grayhat Warfare\n",
    "#\n",
    "# The provided S3 names contain complete AWS domain information as well, which will be one of the following formats:\n",
    "# 1) [bucket_name].s3.amazonaws.com\n",
    "# 2) [bucket_name].s3-[aws_region].amazonaws.com\n",
    "# 3) [bucket_name].s3.[aws_region].amazonaws.com\n",
    "# \n",
    "#\n",
    "import json, re\n",
    "\n",
    "def extract_bucket_name(bucket_url):\n",
    "    # Define regex pattern to match and capture the bucket name\n",
    "    pattern = r\"^(.+)?\\.s3(?:[\\.-])(.+)?amazonaws.com(?:\\.[a-z]{2})?$\"\n",
    "    \n",
    "    # Search for the pattern in the given URL\n",
    "    match = re.match(pattern, bucket_url)\n",
    "    \n",
    "    # Return the bucket name if found, otherwise None\n",
    "    return match.group(1) if match else None\n",
    "\n",
    "\n",
    "with open('buckets.json', 'r') as f:\n",
    "    gh_data = json.load(f)\n",
    "\n",
    "bucket_names = [x['bucket'] for x in gh_data]\n",
    "bucket_names = [extract_bucket_name(x) for x in bucket_names]\n",
    "bucket_names = [b for b in bucket_names if b is not None]\n",
    "\n",
    "# Save point, all bucket names minus the AWS domains\n",
    "with open('parsed_buckets.json', 'w') as f:\n",
    "    json.dump(bucket_names, f, indent=2)"
   ]
  },
  {
   "cell_type": "code",
   "execution_count": 138,
   "metadata": {},
   "outputs": [
    {
     "name": "stdout",
     "output_type": "stream",
     "text": [
      "[['beta', 'bot'], ['legitimate', 'defense', 'contractor'], ['dev', 's', '1'], ['shares', '1'], ['it', 'admin'], ['resource', '3'], ['open', 'dns', 'downloads'], ['rmi', 'public'], ['s', '1', 'img'], ['vpn', 'static'], ['rice', 'test'], ['rmi', 'scripts'], ['sjs'], ['bucket', '01'], ['mg', 'images'], ['devs'], ['s', 'mobile'], ['s', 'products'], ['now', 'stats'], ['ntp', 'beta'], ['pool', 'test'], ['jscripts'], ['now', 'test'], ['sd', 'app'], ['now', 'cdn'], ['seneca', 'images'], ['nh', 'data'], ['test', '0191'], ['set', 'up', 'app'], ['cache', 'test'], ['static', 'test'], ['shared', 'public'], ['assets', 'shared'], ['screenshots', 'test'], ['images', 'test'], ['cu', 'website'], ['media', 'shared'], ['shared', 'common'], ['sf', 'assets'], ['cutest'], ['resources', 'dev'], ['dev', 'web'], ['dev', 'builds'], ['temp', 'dev'], ['sf', 'uploads'], ['dev', 'app'], ['sf', 'img'], ['media', 'signage'], ['netdev'], ['signage', 'staging'], ['net', 'videos'], ['love', 'app'], ['media', 'osb'], ['signage', 'storage'], ['signage', 'media'], ['business', 'pics'], ['android', 'cms'], ['cms', 'resources'], ['hub', 'cms'], ['siliconvalley', '2'], ['content', 'images'], ['website', 'content'], ['john', 'gg'], ['aws', 'media'], ['liberty', 'resources'], ['landing', 'aws'], ['django', 'dev'], ['socket', 'public'], ['img', 'eu'], ['eu', '001'], ['master', 'files'], ['master', 's', '3'], ['kfs', 'test'], ['cdn', 'testing'], ['dynamo', 'db', 'aws'], ['aws', 'cdn'], ['u', 'at', 'build'], ['uploads', 'sol'], ['tag', 'images'], ['web', 'ssr'], ['tag', 'test'], ['tag', 'website'], ['ssr', 'data'], ['zaz', '1'], ['tag', 'mobile'], ['vip', 'assets'], ['mis', 'videos'], ['bucket', 'vip'], ['vip', 'beta'], ['mdm', 'public'], ['alpha', 'prod'], ['images', 'storage'], ['static', 'prod'], ['prod', 'emails'], ['meo', 'dev'], ['repo', 'prod'], ['cp', 'bucket'], ['test', 'cp'], ['production', 'switch'], ['beta', 'switch']]\n"
     ]
    }
   ],
   "source": [
    "#\n",
    "# Let's attempt to tokenize\n",
    "#\n",
    "import nltk\n",
    "from nltk.tokenize import word_tokenize\n",
    "from nltk.tokenize import RegexpTokenizer\n",
    "\n",
    "##\n",
    "## Due to weird behavior, I ended up downloading *all* corpora and models to get the\n",
    "## punkt tokenizer operational.\n",
    "##\n",
    "#nltk.download()\n",
    "\n",
    "import json\n",
    "\n",
    "with open('parsed_buckets.json') as f:\n",
    "    buckets = json.load(f)\n",
    "\n",
    "# Start with a simple Regex based tokenizer for the light work.\n",
    "custom_tokenizer = RegexpTokenizer(r'\\d+|[a-zA-Z]+')\n",
    "tokenized_buckets = []\n",
    "for b in buckets:\n",
    "   tokenized_buckets.append(custom_tokenizer.tokenize(b.lower()))\n",
    "\n",
    "from wordsegment import load, segment\n",
    "load()\n",
    "results = []\n",
    "for bucket in tokenized_buckets:\n",
    "    current_tokens = []\n",
    "    for b in bucket:\n",
    "       current_tokens.extend(segment(b))\n",
    "    results.append(current_tokens)\n",
    "\n",
    "with open(\"tokenized_buckets.json\", \"w\") as f:\n",
    "    json.dump(results, f, indent=2)\n",
    "# print(results)\n",
    "\n",
    "\n",
    "# print(\"compound\" in english_words)\n",
    "# from wordsegment import load, segment\n",
    "# load()\n",
    "\n",
    "    \n",
    "# NOTE: Bert broke words based on tokens with no regard for the english dictionary\n",
    "# Move on to a BERT based tokenizer to split words such as \"websitecontent\" and \"siliconvalley\"\n",
    "# from transformers import BertTokenizer\n",
    "# import torch\n",
    "# tokenizer = BertTokenizer.from_pretrained('bert-base-uncased')\n",
    "# for bucket_tokens in tokenized_buckets[30:50]:\n",
    "#     for token in bucket_tokens:\n",
    "#         print(f\"Input: {token}, output: {tokenizer.tokenize(token)}\")\n",
    "# print(tokenized_buckets[50:100])\n",
    "\n",
    "\n"
   ]
  },
  {
   "cell_type": "code",
   "execution_count": 134,
   "metadata": {},
   "outputs": [
    {
     "name": "stdout",
     "output_type": "stream",
     "text": [
      "['compound', 'word']\n",
      "['my', 'screenshots']\n",
      "['screenshot', 'library']\n",
      "['asdfbasdfdsaf']\n",
      "['my', 'garbage', 'ghg', 'gfg', 'fgf']\n",
      "['resource', '3']\n",
      "['legitimate', 'defense', 'contractor']\n"
     ]
    }
   ],
   "source": [
    "from wordfreq import top_n_list\n",
    "\n",
    "# Approx 235k English words, we need to remove single letters\n",
    "english_words = top_n_list(\"en\", 10000)\n",
    "english_words = set([word for word in english_words if len(word) > 2])\n",
    "\n",
    "# print(\"\\n\".join(english_words))\n",
    "\n",
    "inputs = [\n",
    "    \"compoundword\",\n",
    "    \"myscreenshots\",\n",
    "    \"screenshotlibrary\",\n",
    "    \"asdfbasdfdsaf\",\n",
    "    \"mygarbageghggfgfgf\",\n",
    "    \"resource3\",\n",
    "    \"legitimatedefensecontractor\"\n",
    "]\n",
    "\n",
    "def dictionary_split(input_word) -> list:\n",
    "    # print(f\"Testing {input_word}\")\n",
    "    splits = []\n",
    "    for i in range(1, len(input_word)-1):\n",
    "        prefix, suffix = input_word[:i], input_word[i:]\n",
    "\n",
    "        if english_words.issuperset({prefix, suffix}):\n",
    "            # Both words are a match, end it here\n",
    "            # print(f\"Appending {prefix, suffix}\")\n",
    "            splits.append([prefix, suffix])\n",
    "        elif prefix in english_words:\n",
    "            # We've matched a word based on the prefix. Recurse for the suffix, and\n",
    "            # add the combination as a contender\n",
    "            current_split = [prefix]\n",
    "            current_split.extend(dictionary_split(suffix))\n",
    "            splits.append(current_split)            \n",
    "        elif suffix in english_words:\n",
    "            # We've matched a word based on the suffix. Recurse for the suffix, and\n",
    "            # add the combination as a contender\n",
    "            current_split = dictionary_split(prefix)\n",
    "            current_split.append(suffix)\n",
    "            splits.append(current_split)\n",
    "            \n",
    "    # After iteration, if splits is empty then return the full word.  Otherwise return the \n",
    "    # Split with the least number of words\n",
    "    if len(splits) == 0:\n",
    "        return [input_word]\n",
    "    else:\n",
    "        min_splits = splits[0]\n",
    "        for test_split in splits:\n",
    "            if len(test_split) < len(min_splits):\n",
    "                min_splits = test_split\n",
    "        return min_splits    \n",
    "\n",
    "# print(\"compound\" in english_words)\n",
    "from wordsegment import load, segment\n",
    "load()\n",
    "\n",
    "\n",
    "for input in inputs:\n",
    "    print(segment(input))"
   ]
  }
 ],
 "metadata": {
  "kernelspec": {
   "display_name": ".venv",
   "language": "python",
   "name": "python3"
  },
  "language_info": {
   "codemirror_mode": {
    "name": "ipython",
    "version": 3
   },
   "file_extension": ".py",
   "mimetype": "text/x-python",
   "name": "python",
   "nbconvert_exporter": "python",
   "pygments_lexer": "ipython3",
   "version": "3.12.3"
  }
 },
 "nbformat": 4,
 "nbformat_minor": 2
}
