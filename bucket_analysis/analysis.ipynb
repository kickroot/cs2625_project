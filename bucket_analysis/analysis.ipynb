{
 "cells": [
  {
   "cell_type": "code",
   "execution_count": 3,
   "metadata": {},
   "outputs": [
    {
     "name": "stdout",
     "output_type": "stream",
     "text": [
      "3.12.3 (main, Sep 11 2024, 14:17:37) [GCC 13.2.0]\n"
     ]
    }
   ],
   "source": [
    "import sys\n",
    "print(sys.version)"
   ]
  },
  {
   "cell_type": "code",
   "execution_count": 18,
   "metadata": {},
   "outputs": [],
   "source": [
    "#\n",
    "# Load and extract the 327k bucket names downloaded from Grayhat Warfare\n",
    "#\n",
    "# The provided S3 names contain complete AWS domain information as well, which will be one of the following formats:\n",
    "# 1) [bucket_name].s3.amazonaws.com\n",
    "# 2) [bucket_name].s3-[aws_region].amazonaws.com\n",
    "# 3) [bucket_name].s3.[aws_region].amazonaws.com\n",
    "# \n",
    "#\n",
    "import json, re\n",
    "\n",
    "def extract_bucket_name(bucket_url):\n",
    "    # Define regex pattern to match and capture the bucket name\n",
    "    pattern = r\"^(.+)?\\.s3(?:[\\.-])(.+)?amazonaws.com(?:\\.[a-z]{2})?$\"\n",
    "    \n",
    "    # Search for the pattern in the given URL\n",
    "    match = re.match(pattern, bucket_url)\n",
    "    \n",
    "    # Return the bucket name if found, otherwise None\n",
    "    return match.group(1) if match else None\n",
    "\n",
    "\n",
    "with open('buckets.json', 'r') as f:\n",
    "    gh_data = json.load(f)\n",
    "\n",
    "bucket_names = [x['bucket'] for x in gh_data]\n",
    "bucket_names = [extract_bucket_name(x) for x in bucket_names]\n",
    "bucket_names = [b for b in bucket_names if b is not None]\n",
    "\n",
    "# Save point, all bucket names minus the AWS domains\n",
    "with open('parsed_buckets.json', 'w') as f:\n",
    "    json.dump(bucket_names, f, indent=2)"
   ]
  }
 ],
 "metadata": {
  "kernelspec": {
   "display_name": ".venv",
   "language": "python",
   "name": "python3"
  },
  "language_info": {
   "codemirror_mode": {
    "name": "ipython",
    "version": 3
   },
   "file_extension": ".py",
   "mimetype": "text/x-python",
   "name": "python",
   "nbconvert_exporter": "python",
   "pygments_lexer": "ipython3",
   "version": "3.12.3"
  }
 },
 "nbformat": 4,
 "nbformat_minor": 2
}
